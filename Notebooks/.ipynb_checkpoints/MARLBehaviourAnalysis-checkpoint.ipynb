{
 "cells": [
  {
   "cell_type": "code",
   "execution_count": null,
   "id": "40de1e44",
   "metadata": {},
   "outputs": [],
   "source": [
    "using DataFrames, CSV, Plots, Statistics, DataStructures, JLD, Plots.PlotMeasures, LaTeXStrings, DynamicalSystems, Distributions, Random, StatsBase, KernelDensity, Interpolations, StatsPlots\n",
    "\n",
    "path_to_files = \"/home/matt/Desktop/Advanced_Analytics/Dissertation/Code/MDTG-MALABM/\"\n",
    "include(path_to_files * \"Scripts/Moments.jl\"); "
   ]
  },
  {
   "cell_type": "code",
   "execution_count": null,
   "id": "bd4b3b6a",
   "metadata": {},
   "outputs": [],
   "source": [
    "b0_s1 = load(\"../Data/RL/Training/MARL/Results_Type2_Buy_0_Sell_1_alpha0.1_lambda0.003_gamma0.25_delta_3_6.jld\")[\"rl_results\"]\n",
    "b1_s0 = load(\"../Data/RL/Training/MARL/Results_Type2_Buy_0_Sell_1_alpha0.1_lambda0.003_gamma0.25_delta_5_10.jld\")[\"rl_results\"]\n",
    "b1_s1 = load(\"../Data/RL/Training/MARL/Results_Type2_Buy_1_Sell_0_alpha0.1_lambda0.003_gamma0.25_delta_3_6.jld\")[\"rl_results\"]\n"
   ]
  },
  {
   "cell_type": "code",
   "execution_count": null,
   "id": "400f1ee1",
   "metadata": {},
   "outputs": [],
   "source": [
    "marl_data = Dict(\"b1_s0\" => b1_s0, \"b0_s1\" => b0_s1, \"b1_s1\" => b1_s1)"
   ]
  },
  {
   "cell_type": "code",
   "execution_count": null,
   "id": "4f180a99",
   "metadata": {},
   "outputs": [],
   "source": [
    "marl_data[\"b1_s1\"][1][\"rlAgent_1\"][\"ActionType\"]"
   ]
  }
 ],
 "metadata": {
  "kernelspec": {
   "display_name": "Julia 1.7.1",
   "language": "julia",
   "name": "julia-1.7"
  },
  "language_info": {
   "file_extension": ".jl",
   "mimetype": "application/julia",
   "name": "julia",
   "version": "1.7.1"
  }
 },
 "nbformat": 4,
 "nbformat_minor": 5
}
