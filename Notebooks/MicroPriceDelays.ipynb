{
 "cells": [
  {
   "cell_type": "code",
   "execution_count": null,
   "id": "c51893ca",
   "metadata": {},
   "outputs": [],
   "source": [
    "using Plots, PyPlot, DynamicalSystems, Random, Distributions, StatsBase, DataFrames, CSV, Dates, KernelDensity, Interpolations, StatsPlots\n"
   ]
  },
  {
   "cell_type": "code",
   "execution_count": null,
   "id": "8ed0e3bb",
   "metadata": {
    "scrolled": true
   },
   "outputs": [],
   "source": [
    "# data = CSV.File(string(\"../../Advanced_Analytics/Dissertation/Code/MDTG-MALABM/Data/CoinTossX/L1LOBStar.csv\"), drop = [:MidPrice, :Spread, :Price], missingstring = \"missing\", types = Dict(:DateTime => DateTime, :Initialization => Symbol, :Type => Symbol)) |> x -> filter(y -> y.Initialization != :INITIAL, x) |> DataFrame\n",
    "\n",
    "date = DateTime(\"2019-07-08\")\n",
    "startTime = date + Hour(9) + Minute(1)\n",
    "endTime = date + Hour(16) + Minute(50) \n",
    "\n",
    "data = CSV.File(string(\"../../Advanced_Analytics/Dissertation/Code/MDTG-MALABM/Data/JSE/L1LOB.csv\"), drop = [:MidPrice, :Spread, :Price], missingstring = \"missing\", types = Dict(:DateTime => DateTime, :Type => Symbol)) |> DataFrame\n",
    "filter!(x -> startTime <= x.DateTime && x.DateTime < endTime, data)\n",
    "\n",
    "data.Date = Date.(data.DateTime)\n",
    "uniqueDays = unique(data.Date)\n",
    "uniqueDays = unique(data.Date)\n",
    "logreturns = map(day -> diff(log.(skipmissing(data[searchsorted(data.Date, day), :MicroPrice]))), uniqueDays) |> x -> reduce(vcat, x)\n"
   ]
  },
  {
   "cell_type": "code",
   "execution_count": null,
   "id": "eb73c6bb",
   "metadata": {},
   "outputs": [],
   "source": [
    "# bin the log returns for smoothing\n",
    "function bin(logreturns, bins)\n",
    "    logreturns_binned = Vector{Float64}()\n",
    "    for i in bins:length(logreturns)\n",
    "        start = (i-bins)+1\n",
    "        push!(logreturns_binned, mean(logreturns[start:i]))\n",
    "    end\n",
    "    return logreturns_binned\n",
    "end"
   ]
  },
  {
   "cell_type": "code",
   "execution_count": null,
   "id": "3d310ee1",
   "metadata": {
    "scrolled": true
   },
   "outputs": [],
   "source": [
    "# remove the transient\n",
    "transient = 100\n",
    "logreturns_trns = logreturns[transient:end]"
   ]
  },
  {
   "cell_type": "code",
   "execution_count": null,
   "id": "d366fa92",
   "metadata": {
    "scrolled": true
   },
   "outputs": [],
   "source": [
    "# bin the log returns with no transient\n",
    "logreturns_binned = bin(logreturns_trns, 10)"
   ]
  },
  {
   "cell_type": "code",
   "execution_count": null,
   "id": "e7de782a",
   "metadata": {},
   "outputs": [],
   "source": [
    "# plot the binned log returns\n",
    "plt.plot(logreturns_binned)\n"
   ]
  },
  {
   "cell_type": "markdown",
   "id": "f60a1b7d",
   "metadata": {},
   "source": [
    "## Compute the time delay parameter"
   ]
  },
  {
   "cell_type": "code",
   "execution_count": null,
   "id": "dd7067f8",
   "metadata": {},
   "outputs": [],
   "source": [
    "# set parameters\n",
    "lags = 1:100"
   ]
  },
  {
   "cell_type": "code",
   "execution_count": null,
   "id": "df428238",
   "metadata": {
    "scrolled": false
   },
   "outputs": [],
   "source": [
    "# compute the time delay using the autocorrelation of the micro-prices (first min since min is always 1)\n",
    "return_autocor = autocor(logreturns_binned, lags)\n",
    "plt.plot(return_autocor)\n",
    "xlabel(\"lags\")\n",
    "ylabel(\"Autocor\")\n",
    "tau = estimate_delay(logreturns_binned, \"ac_min\", lags)\n",
    "println(\"Tau: \" * string(tau))\n"
   ]
  },
  {
   "cell_type": "markdown",
   "id": "f0f2d107",
   "metadata": {},
   "source": [
    "## Compute the correlation dimension (do box-counting for sanity)\n",
    "Note: D2 can't exceed 2log10(N), where N is the number of data points"
   ]
  },
  {
   "cell_type": "code",
   "execution_count": null,
   "id": "1988894b",
   "metadata": {},
   "outputs": [],
   "source": [
    "Dmax = 2 * log10(length(logreturns_binned))"
   ]
  },
  {
   "cell_type": "code",
   "execution_count": null,
   "id": "10529fbc",
   "metadata": {},
   "outputs": [],
   "source": [
    "# compute the GP correlation dimension and use m to compute the required delay dimension\n",
    "function PlotCorrelationVsBoxSize(data, dims, es_starts, es_stops, es_step, tau)\n",
    "    \n",
    "    slopes = Vector{Float64}()\n",
    "    \n",
    "    subplot_dims = Int(ceil(length(dims)/3))\n",
    "#     fig = plt.figure(figsize=plt.figaspect(0.5))\n",
    "\n",
    "    for (i, dim) in enumerate(dims)\n",
    "        # set box size range\n",
    "        es = ℯ .^ (es_starts[i]:es_step:es_stops[i])\n",
    "        es_log = log.(es)\n",
    "        \n",
    "        # create correlation embeddings\n",
    "        recon = embed(data, dim, tau)\n",
    "        cs = correlationsum(recon, es; q = 2)\n",
    "        reg_res = linear_region(log.(es), log.(cs); tol = 0.8)\n",
    "        slope = reg_res[2]\n",
    "        push!(slopes, slope)\n",
    "        \n",
    "        # make plots\n",
    "        plt.plot(es_log, cs, label = dim)\n",
    "        plt.plot(es_log[reg_res[1][1]:reg_res[1][2]], cs[reg_res[1][1]:reg_res[1][2]])\n",
    "    end\n",
    "    plt.legend()\n",
    "    \n",
    "    return slopes\n",
    "    \n",
    "end"
   ]
  },
  {
   "cell_type": "code",
   "execution_count": null,
   "id": "12ce88e2",
   "metadata": {
    "scrolled": false
   },
   "outputs": [],
   "source": [
    "dims = [1,2,5,10,15,20,25,30,35,40,45] \n",
    "es_starts = [-13.5,-13,-11,-10.5,-10.5,-10,-10,-9.8,-9.7,-9.5,-9.3]\n",
    "es_stops = ones(length(dims)) .* -7.5\n",
    "es_step = 0.1 \n",
    "tau = 10\n",
    "slopes = PlotCorrelationVsBoxSize(logreturns_binned, dims, es_starts, es_stops, es_step, tau)"
   ]
  },
  {
   "cell_type": "code",
   "execution_count": null,
   "id": "712974df",
   "metadata": {},
   "outputs": [],
   "source": [
    "plt.plot(dims, slopes, marker = \"o\")\n",
    "xlabel(\"Embedding dimension\")\n",
    "ylabel(\"Fractal dimension\")\n"
   ]
  },
  {
   "cell_type": "markdown",
   "id": "343bbd15",
   "metadata": {},
   "source": [
    "A quick note on hyperparams:\n",
    "1. Tau: If tau <= 5 then we have the the above analysis suggests the embedding dimension should be 1, however if tau > 5, (at least less than 20) we have that the embedding dim should be 2. All experiments suggest convergence and constant behaviour after about 30 embedding dimensions.\n",
    "2. Increasing the binning increases tau and decreases the number of dimensions.\n",
    "\n",
    "Also interesting to note that I tested the JSE and the fractal dimension evened out around 5 or 6."
   ]
  },
  {
   "cell_type": "code",
   "execution_count": null,
   "id": "99a0fc4a",
   "metadata": {
    "scrolled": true
   },
   "outputs": [],
   "source": [
    "# create the necessary embedding tau = firstmin(autocorrelation), dim = ceil(max_fractal)\n",
    "tau = 10\n",
    "dim = 2\n",
    "R = embed(logreturns_binned, 2, 10)"
   ]
  },
  {
   "cell_type": "code",
   "execution_count": null,
   "id": "b9eb3cb3",
   "metadata": {},
   "outputs": [],
   "source": [
    "# perform any dim reduction needed to create a visualisation of the embedding"
   ]
  },
  {
   "cell_type": "code",
   "execution_count": null,
   "id": "3ae2a734",
   "metadata": {},
   "outputs": [],
   "source": [
    "# plot embedding\n",
    "start = 1\n",
    "finish = length(R)\n",
    "plt.plot(R[start:finish, 1], R[start:finish, 2], lw = 1, marker = \"o\", ms = 0.1, alpha = 0.5)\n",
    "plt.title(\"Returns\")"
   ]
  },
  {
   "cell_type": "markdown",
   "id": "69cb0130",
   "metadata": {},
   "source": [
    "## Smooth the embedding using NN"
   ]
  },
  {
   "cell_type": "code",
   "execution_count": null,
   "id": "5251be46",
   "metadata": {},
   "outputs": [],
   "source": [
    "# can do ball or square, I will do ball first because it is easiest\n",
    "function GetNeighbours(data, point, nlast, epsilon)\n",
    "    neighboursX = Vector{Float64}()\n",
    "    neighboursY = Vector{Float64}()\n",
    "    neighboursT = Vector{Int64}()\n",
    "    neigboursDists = Vector{Float64}()\n",
    "    for i in 1:size(data)[1]\n",
    "        # compute dist to all other point\n",
    "        next_point = data[i,:]\n",
    "        if next_point.t == point.t # dont compare to itself\n",
    "            continue\n",
    "        else\n",
    "            dist = sqrt((point.x - next_point.x)^2 + (point.y - next_point.y)^2)\n",
    "            if dist <= epsilon && (point.t - nlast) <= next_point.t && next_point.t < point.t # check if in ball and check if in time bound\n",
    "                push!(neighboursX, next_point.x)\n",
    "                push!(neighboursY, next_point.y)\n",
    "                push!(neighboursT, next_point.t)\n",
    "                push!(neigboursDists, dist)\n",
    "            end\n",
    "        end\n",
    "    end\n",
    "    if length(neighboursX) == 0\n",
    "        neighboursX = point.x\n",
    "        neighboursY = point.y\n",
    "        neighboursT = point.t\n",
    "        neigboursDists = 0\n",
    "    end\n",
    "    return neighboursX, neighboursY, neighboursT, neigboursDists\n",
    "end"
   ]
  },
  {
   "cell_type": "code",
   "execution_count": null,
   "id": "296acdb8",
   "metadata": {
    "scrolled": true
   },
   "outputs": [],
   "source": [
    "t,(x,y) = collect(1:length(R)), columns(R)\n",
    "embedded_dataset = DataFrame(Dict(\"t\"=>t,\"x\"=>x,\"y\"=>y))"
   ]
  },
  {
   "cell_type": "code",
   "execution_count": null,
   "id": "17ebc673",
   "metadata": {},
   "outputs": [],
   "source": [
    "nlast = 30\n",
    "epsilon = 1e-3\n",
    "GetNeighbours(embedded_dataset, embedded_dataset[1,:], nlast, epsilon)"
   ]
  },
  {
   "cell_type": "code",
   "execution_count": null,
   "id": "152069dc",
   "metadata": {},
   "outputs": [],
   "source": [
    "function NearestNeighboursSmoothing(data, nlast, epsilon)\n",
    "    smoothed_vecs = Vector{Vector{Float64}}()\n",
    "    for i in 1:size(data)[1]\n",
    "        neighboursX, neighboursY, neighboursT, neigboursDists = GetNeighbours(data, data[i,:], nlast, epsilon)\n",
    "#         mean(neighboursX[i] * 1/(neigboursDists[i]) for i in 1:length(neighboursT)), mean(neighboursY[i] * 1/(neigboursDists[i]) for i in 1:length(neighboursT))\n",
    "        if i % 100 == 0\n",
    "            println(\"I: \", i,\" Number of neighbours: \", length(neighboursX), \" Average dist: \", mean(neigboursDists))\n",
    "        end\n",
    "        push!(smoothed_vecs, [mean(neighboursX), mean(neighboursY)])\n",
    "    end\n",
    "    return smoothed_vecs\n",
    "end"
   ]
  },
  {
   "cell_type": "code",
   "execution_count": null,
   "id": "c9df4d1b",
   "metadata": {
    "scrolled": true
   },
   "outputs": [],
   "source": [
    "smoothed_vecs = NearestNeighboursSmoothing(embedded_dataset, nlast, epsilon)"
   ]
  },
  {
   "cell_type": "code",
   "execution_count": null,
   "id": "757c8cf5",
   "metadata": {},
   "outputs": [],
   "source": [
    "# perform required dim reduction"
   ]
  },
  {
   "cell_type": "code",
   "execution_count": null,
   "id": "b9ba1727",
   "metadata": {
    "scrolled": false
   },
   "outputs": [],
   "source": [
    "# plot smoothed embedding\n",
    "start = 1\n",
    "finish = length(smoothed_vecs)\n",
    "plt.plot([s for (s,j) in smoothed_vecs], [j for (s,j) in smoothed_vecs], lw = 1, marker = \"o\", ms = 0.1, alpha = 0.5)\n",
    "plt.title(\"Returns\")\n"
   ]
  },
  {
   "cell_type": "code",
   "execution_count": null,
   "id": "64989b87",
   "metadata": {
    "scrolled": true
   },
   "outputs": [],
   "source": [
    "x = [s for (s,j) in smoothed_vecs]\n",
    "xdot = [j for (s,j) in smoothed_vecs]\n",
    "# perm = sortperm(x)\n",
    "# x_sort = x[perm]\n",
    "# xdot_sort = xdot[perm]\n",
    "# k = kde((x_sort, xdot_sort))\n",
    "# ik = InterpKDE(k)\n",
    "# z = pdf(ik, x_sort, xdot_sort)\n"
   ]
  },
  {
   "cell_type": "code",
   "execution_count": null,
   "id": "4efa23d8",
   "metadata": {},
   "outputs": [],
   "source": [
    "Plots.plot(x, xdot, linewidth = 1, alpha = 0.5)\n",
    "Plots.histogram2d!(x, xdot, show_empty=false, bins = 150, c = cgrad(:winter, [0, 0.1, 0.50, 1]))\n"
   ]
  },
  {
   "cell_type": "code",
   "execution_count": null,
   "id": "c77caaa1",
   "metadata": {},
   "outputs": [],
   "source": [
    "density = kde((x, xdot))\n",
    "Plots.plot(x, xdot, linewidth = 1, alpha = 0.5)\n",
    "StatsPlots.plot!(density, levels = 1500, c = cgrad(:winter, [0, 0.1, 0.50, 1]))"
   ]
  },
  {
   "cell_type": "code",
   "execution_count": null,
   "id": "edef0117",
   "metadata": {},
   "outputs": [],
   "source": []
  }
 ],
 "metadata": {
  "kernelspec": {
   "display_name": "Julia 1.7.1",
   "language": "julia",
   "name": "julia-1.7"
  },
  "language_info": {
   "file_extension": ".jl",
   "mimetype": "application/julia",
   "name": "julia",
   "version": "1.7.1"
  }
 },
 "nbformat": 4,
 "nbformat_minor": 5
}
